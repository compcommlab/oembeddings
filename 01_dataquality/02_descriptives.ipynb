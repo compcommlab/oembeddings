{
 "cells": [
  {
   "cell_type": "code",
   "execution_count": null,
   "metadata": {},
   "outputs": [],
   "source": [
    "# change working directory to parent dir\n",
    "# run only once\n",
    "%cd .."
   ]
  },
  {
   "attachments": {},
   "cell_type": "markdown",
   "metadata": {},
   "source": [
    "# Import Statements"
   ]
  },
  {
   "cell_type": "code",
   "execution_count": null,
   "metadata": {},
   "outputs": [],
   "source": [
    "import os\n",
    "import pandas as pd\n",
    "import seaborn as sns\n",
    "\n",
    "from sqlalchemy import select\n",
    "from sqlalchemy.orm import load_only\n",
    "\n",
    "from utils.sql import start_sqlsession\n",
    "from utils.datamodel import Article\n",
    "\n"
   ]
  },
  {
   "attachments": {},
   "cell_type": "markdown",
   "metadata": {},
   "source": [
    "# Load Data"
   ]
  },
  {
   "cell_type": "code",
   "execution_count": null,
   "metadata": {},
   "outputs": [],
   "source": [
    "session, engine = start_sqlsession()\n",
    "\n",
    "with engine.begin() as conn:\n",
    "    stmt = select(Article).options(load_only(Article.article_md5, Article.source, Article.date_published))\n",
    "    df = pd.read_sql_query(stmt, conn)\n",
    "\n",
    "df"
   ]
  },
  {
   "cell_type": "code",
   "execution_count": null,
   "metadata": {},
   "outputs": [],
   "source": [
    "df['year_published'] = df.date_published.dt.year\n",
    "\n",
    "annual_counts = df.groupby([\"source\", \"year_published\"]).count().reset_index()\n",
    "pretty_table = annual_counts.loc[:, \n",
    "                                 ['source', 'year_published', 'id']].rename(\n",
    "                                     columns={'id': 'n', 'source': 'News Outlet', 'year_published': 'Year'}\n",
    "                                     ).pivot(\n",
    "                                         index=\"News Outlet\", columns=\"Year\", values='n'\n",
    "                                         ).fillna(0).astype(int)\n",
    "\n",
    "pretty_table\n",
    "\n",
    "pretty_table.to_csv('01_dataquality/article_descriptives.csv')"
   ]
  },
  {
   "cell_type": "code",
   "execution_count": null,
   "metadata": {},
   "outputs": [],
   "source": [
    "order = list(range(annual_counts.year_published.min(), annual_counts.year_published.max() + 1))\n",
    "\n",
    "g = sns.FacetGrid(annual_counts, col=\"source\", col_wrap=5)\n",
    "g.map(sns.barplot, \"year_published\", \"id\", order=order)\n",
    "g.set_xticklabels(order, rotation=45)\n",
    "g.set_xlabels(\"Year published\")\n",
    "g.set_ylabels(\"Number of articles\")"
   ]
  },
  {
   "cell_type": "code",
   "execution_count": null,
   "metadata": {},
   "outputs": [],
   "source": [
    "g.savefig('01_dataquality/article_descriptives.png')"
   ]
  }
 ],
 "metadata": {
  "kernelspec": {
   "display_name": "Python 3",
   "language": "python",
   "name": "python3"
  },
  "language_info": {
   "codemirror_mode": {
    "name": "ipython",
    "version": 3
   },
   "file_extension": ".py",
   "mimetype": "text/x-python",
   "name": "python",
   "nbconvert_exporter": "python",
   "pygments_lexer": "ipython3",
   "version": "3.8.10"
  },
  "orig_nbformat": 4
 },
 "nbformat": 4,
 "nbformat_minor": 2
}
