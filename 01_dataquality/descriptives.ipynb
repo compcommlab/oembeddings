{
 "cells": [
  {
   "cell_type": "code",
   "execution_count": null,
   "metadata": {},
   "outputs": [],
   "source": [
    "# change working directory to parent dir\n",
    "# run only once\n",
    "%cd .."
   ]
  },
  {
   "attachments": {},
   "cell_type": "markdown",
   "metadata": {},
   "source": [
    "# Import Statements"
   ]
  },
  {
   "cell_type": "code",
   "execution_count": null,
   "metadata": {},
   "outputs": [],
   "source": [
    "import os\n",
    "import pandas as pd\n",
    "import seaborn as sns\n",
    "\n",
    "from sqlalchemy import select\n",
    "from sqlalchemy.orm import load_only\n",
    "\n",
    "from utils.sql import start_sqlsession\n",
    "from utils.datamodel import Article\n",
    "\n",
    "connect_string = os.environ.get('OEMBEDDINGS_DB', 'sqlite:///database.db')\n",
    "\n",
    "session, engine = start_sqlsession(connect_string)"
   ]
  },
  {
   "attachments": {},
   "cell_type": "markdown",
   "metadata": {},
   "source": [
    "# Load Data"
   ]
  },
  {
   "cell_type": "code",
   "execution_count": null,
   "metadata": {},
   "outputs": [],
   "source": [
    "stmt = select(Article).options(load_only(Article.article_md5, Article.source, Article.date_published))\n",
    "\n",
    "df = pd.read_sql(stmt, engine)\n",
    "\n",
    "df"
   ]
  },
  {
   "cell_type": "code",
   "execution_count": null,
   "metadata": {},
   "outputs": [],
   "source": [
    "df['year_published'] = df.date_published.dt.year\n",
    "\n",
    "annual_counts = df.groupby([\"source\", \"year_published\"]).count().reset_index()\n",
    "annual_counts\n"
   ]
  },
  {
   "cell_type": "code",
   "execution_count": null,
   "metadata": {},
   "outputs": [],
   "source": [
    "# sns.relplot(data=annual_counts, x=\"year_published\", y=\"id\",\n",
    "#             col=\"source\", col_wrap=3)\n",
    "\n",
    "g = sns.FacetGrid(annual_counts, col=\"source\", col_wrap=3)\n",
    "g.map(sns.barplot, \"year_published\", \"id\")\n"
   ]
  }
 ],
 "metadata": {
  "kernelspec": {
   "display_name": "Python 3",
   "language": "python",
   "name": "python3"
  },
  "language_info": {
   "codemirror_mode": {
    "name": "ipython",
    "version": 3
   },
   "file_extension": ".py",
   "mimetype": "text/x-python",
   "name": "python",
   "nbconvert_exporter": "python",
   "pygments_lexer": "ipython3",
   "version": "3.8.10"
  },
  "orig_nbformat": 4
 },
 "nbformat": 4,
 "nbformat_minor": 2
}
